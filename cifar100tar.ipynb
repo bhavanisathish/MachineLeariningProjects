{
  "nbformat": 4,
  "nbformat_minor": 0,
  "metadata": {
    "colab": {
      "name": "cifar100tar.ipynb",
      "provenance": []
    },
    "kernelspec": {
      "display_name": "Python 3",
      "name": "python3"
    }
  },
  "cells": [
    {
      "cell_type": "code",
      "metadata": {
        "id": "ZTypBstoJOpV"
      },
      "source": [
        "from keras.preprocessing.image import ImageDataGenerator\n",
        "from tensorflow.keras import layers\n",
        "from tensorflow.keras import Model\n",
        "from keras.regularizers import l2"
      ],
      "execution_count": 1,
      "outputs": []
    },
    {
      "cell_type": "code",
      "metadata": {
        "id": "Wy8cC1b_KV3H"
      },
      "source": [
        "input = layers.Input(shape=(32,32,3))\n",
        "\n",
        "x = layers.Conv2D(64,3,activation='relu')(input)\n",
        "x = layers.MaxPool2D(2)(x)\n",
        "\n",
        "\n",
        "x = layers.Conv2D(64,3,activation='relu')(x)\n",
        "x = layers.MaxPool2D(2)(x)\n",
        "\n",
        "x= layers.Dropout(0.25)(x)\n",
        "\n",
        "x = layers.Flatten()(x)\n",
        "\n",
        "x = layers.Dense(512,activation='relu')(x)\n",
        "\n",
        "\n",
        "x= layers.Dropout(0.25)(x)\n",
        "\n",
        "output = layers.Dense(100,activation='softmax')(x)"
      ],
      "execution_count": 2,
      "outputs": []
    },
    {
      "cell_type": "code",
      "metadata": {
        "id": "Je5eH0sMLhbL"
      },
      "source": [
        "model = Model(input,output)"
      ],
      "execution_count": 3,
      "outputs": []
    },
    {
      "cell_type": "code",
      "metadata": {
        "id": "MVn0v76RL2d9",
        "outputId": "c23bf690-5a57-4753-8540-c9882999d98d",
        "colab": {
          "base_uri": "https://localhost:8080/"
        }
      },
      "source": [
        "model.summary()"
      ],
      "execution_count": 4,
      "outputs": [
        {
          "output_type": "stream",
          "text": [
            "Model: \"functional_1\"\n",
            "_________________________________________________________________\n",
            "Layer (type)                 Output Shape              Param #   \n",
            "=================================================================\n",
            "input_1 (InputLayer)         [(None, 32, 32, 3)]       0         \n",
            "_________________________________________________________________\n",
            "conv2d (Conv2D)              (None, 30, 30, 64)        1792      \n",
            "_________________________________________________________________\n",
            "max_pooling2d (MaxPooling2D) (None, 15, 15, 64)        0         \n",
            "_________________________________________________________________\n",
            "conv2d_1 (Conv2D)            (None, 13, 13, 64)        36928     \n",
            "_________________________________________________________________\n",
            "max_pooling2d_1 (MaxPooling2 (None, 6, 6, 64)          0         \n",
            "_________________________________________________________________\n",
            "dropout (Dropout)            (None, 6, 6, 64)          0         \n",
            "_________________________________________________________________\n",
            "flatten (Flatten)            (None, 2304)              0         \n",
            "_________________________________________________________________\n",
            "dense (Dense)                (None, 512)               1180160   \n",
            "_________________________________________________________________\n",
            "dropout_1 (Dropout)          (None, 512)               0         \n",
            "_________________________________________________________________\n",
            "dense_1 (Dense)              (None, 100)               51300     \n",
            "=================================================================\n",
            "Total params: 1,270,180\n",
            "Trainable params: 1,270,180\n",
            "Non-trainable params: 0\n",
            "_________________________________________________________________\n"
          ],
          "name": "stdout"
        }
      ]
    },
    {
      "cell_type": "code",
      "metadata": {
        "id": "lgsvOEVWLkO8"
      },
      "source": [
        "from keras.optimizers import Adam\n",
        "sgd =Adam(lr=0.000625)\n",
        "model.compile(loss='sparse_categorical_crossentropy', optimizer='adam', metrics=['accuracy'])\n"
      ],
      "execution_count": 5,
      "outputs": []
    },
    {
      "cell_type": "code",
      "metadata": {
        "id": "Gw4Rd9GqL9T8",
        "outputId": "aaf5f0bd-0011-4400-ddf9-7c7b1b314f27",
        "colab": {
          "base_uri": "https://localhost:8080/"
        }
      },
      "source": [
        "#dataset\n",
        "\n",
        "!wget https://www.cs.toronto.edu/~kriz/cifar-100-python.tar.gz"
      ],
      "execution_count": 6,
      "outputs": [
        {
          "output_type": "stream",
          "text": [
            "--2020-11-05 13:20:05--  https://www.cs.toronto.edu/~kriz/cifar-100-python.tar.gz\n",
            "Resolving www.cs.toronto.edu (www.cs.toronto.edu)... 128.100.3.30\n",
            "Connecting to www.cs.toronto.edu (www.cs.toronto.edu)|128.100.3.30|:443... connected.\n",
            "HTTP request sent, awaiting response... 200 OK\n",
            "Length: 169001437 (161M) [application/x-gzip]\n",
            "Saving to: ‘cifar-100-python.tar.gz’\n",
            "\n",
            "cifar-100-python.ta 100%[===================>] 161.17M  16.8MB/s    in 11s     \n",
            "\n",
            "2020-11-05 13:20:17 (15.0 MB/s) - ‘cifar-100-python.tar.gz’ saved [169001437/169001437]\n",
            "\n"
          ],
          "name": "stdout"
        }
      ]
    },
    {
      "cell_type": "code",
      "metadata": {
        "id": "D9Q6UqrxN5KT",
        "outputId": "5436b08f-5ed6-4b9b-ce38-f4349974856a",
        "colab": {
          "base_uri": "https://localhost:8080/"
        }
      },
      "source": [
        "!tar --gunzip --extract --verbose --file=cifar-100-python.tar.gz"
      ],
      "execution_count": 7,
      "outputs": [
        {
          "output_type": "stream",
          "text": [
            "cifar-100-python/\n",
            "cifar-100-python/file.txt~\n",
            "cifar-100-python/train\n",
            "cifar-100-python/test\n",
            "cifar-100-python/meta\n"
          ],
          "name": "stdout"
        }
      ]
    },
    {
      "cell_type": "code",
      "metadata": {
        "id": "VuHJYiB4NN4Y"
      },
      "source": [
        "def unpick(file):\n",
        "  import pickle\n",
        "  with open(file , 'rb') as f:\n",
        "    dict = pickle.load(f , encoding = 'bytes')\n",
        "  return dict"
      ],
      "execution_count": 8,
      "outputs": []
    },
    {
      "cell_type": "code",
      "metadata": {
        "id": "RYqUALVrOzfK"
      },
      "source": [
        "meta = unpick('cifar-100-python/meta')\n",
        "fine_label_names = [t.decode('utf8') for t in meta[b'fine_label_names']]\n"
      ],
      "execution_count": 9,
      "outputs": []
    },
    {
      "cell_type": "code",
      "metadata": {
        "id": "_y1_E8oFNxYP",
        "outputId": "77ecbbd9-0413-4ec8-8b60-6914f1f135e9",
        "colab": {
          "base_uri": "https://localhost:8080/",
          "height": 334
        }
      },
      "source": [
        "\n",
        "\n",
        "\n",
        "import numpy as np\n",
        "from keras.utils import to_categorical\n",
        "\n",
        "train_params = unpick('cifar-100-python/train')\n",
        "\n",
        "train_label = train_params[b'fine_labels']\n",
        "\n",
        "\n",
        "train_data = train_params[b'data']\n",
        "\n",
        "images = []\n",
        "\n",
        "for d in train_data:\n",
        "    image = np.zeros((32,32,3), dtype=np.uint8)\n",
        "    image[...,0] = np.reshape(d[:1024], (32,32)) # Red channel\n",
        "    image[...,1] = np.reshape(d[1024:2048], (32,32)) # Green channel\n",
        "    image[...,2] = np.reshape(d[2048:], (32,32)) # Blue channel\n",
        "    images.append(image)\n",
        "\n",
        "train_x = np.asarray(images)\n",
        "train_y = np.asarray(train_label)\n",
        "\n",
        "y = to_categorical(train_y,num_classes = 100)\n",
        "\n",
        "print(type(train_x[1]))\n",
        "\n",
        "\n",
        "print(train_y.shape)\n",
        "print(y.shape)\n",
        "\n",
        "#print(train_y)\n",
        "#print(fine_label_names[10])\n",
        "\n",
        "import matplotlib.pyplot as plt\n",
        "plt.imshow(train_x[10])\n",
        "ty=train_label[10]\n",
        "print(fine_label_names[ty])"
      ],
      "execution_count": 10,
      "outputs": [
        {
          "output_type": "stream",
          "text": [
            "<class 'numpy.ndarray'>\n",
            "(50000,)\n",
            "(50000, 100)\n",
            "keyboard\n"
          ],
          "name": "stdout"
        },
        {
          "output_type": "display_data",
          "data": {
            "image/png": "[encoded data removed]",
            "text/plain": [
              "<Figure size 432x288 with 1 Axes>"
            ]
          },
          "metadata": {
            "tags": [],
            "needs_background": "light"
          }
        }
      ]
    },
    {
      "cell_type": "code",
      "metadata": {
        "id": "TXEBVIznSZLP",
        "outputId": "bd464582-a871-47ee-9b10-ff3baefa66b2",
        "colab": {
          "base_uri": "https://localhost:8080/",
          "height": 351
        }
      },
      "source": [
        "\n",
        "test_params = unpick('cifar-100-python/test')\n",
        "\n",
        "print(test_params.keys())\n",
        "\n",
        "test_label = test_params[b'fine_labels']\n",
        "\n",
        "test_data = test_params[b'data']\n",
        "\n",
        "imagess = []\n",
        "\n",
        "for d in test_data:\n",
        "    image = np.zeros((32,32,3), dtype=np.uint8)\n",
        "    image[...,0] = np.reshape(d[:1024], (32,32)) # Red channel\n",
        "    image[...,1] = np.reshape(d[1024:2048], (32,32)) # Green channel\n",
        "    image[...,2] = np.reshape(d[2048:], (32,32)) # Blue channel\n",
        "    imagess.append(image)\n",
        "\n",
        "test_x = np.asarray(imagess)\n",
        "test_y = np.asarray(test_label)\n",
        "\n",
        "y_test = to_categorical(test_y,num_classes = 100)\n",
        "\n",
        "print(len(test_y))\n",
        "\n",
        "print(test_x.shape)\n",
        "print(y_test.shape)\n",
        "\n",
        "import matplotlib.pyplot as plt\n",
        "plt.imshow(test_x[12])\n",
        "tee=test_label[12]\n",
        "print(fine_label_names[tee])"
      ],
      "execution_count": 11,
      "outputs": [
        {
          "output_type": "stream",
          "text": [
            "dict_keys([b'filenames', b'batch_label', b'fine_labels', b'coarse_labels', b'data'])\n",
            "10000\n",
            "(10000, 32, 32, 3)\n",
            "(10000, 100)\n",
            "streetcar\n"
          ],
          "name": "stdout"
        },
        {
          "output_type": "display_data",
          "data": {
            "image/png": "[encoded data removed]",
            "text/plain": [
              "<Figure size 432x288 with 1 Axes>"
            ]
          },
          "metadata": {
            "tags": [],
            "needs_background": "light"
          }
        }
      ]
    },
    {
      "cell_type": "code",
      "metadata": {
        "id": "zcpJmfbcWIDP"
      },
      "source": [
        "#preprocessing\n",
        "\n",
        "x_train = train_x.astype('float')\n",
        "x_test = test_x.astype('float')\n",
        "\n",
        "x_train = x_train /255\n",
        "x_test = x_test /255"
      ],
      "execution_count": 12,
      "outputs": []
    },
    {
      "cell_type": "code",
      "metadata": {
        "id": "z6EluoDtf7op"
      },
      "source": [
        "datagen = ImageDataGenerator(  rotation_range=40,\n",
        "        \n",
        "        width_shift_range=0.2,\n",
        "        height_shift_range=0.2,\n",
        "        shear_range=0.2,\n",
        "        zoom_range=0.2,\n",
        "        horizontal_flip=True,\n",
        "        fill_mode='nearest')\n"
      ],
      "execution_count": 13,
      "outputs": []
    },
    {
      "cell_type": "code",
      "metadata": {
        "id": "RHz338HBWigh",
        "outputId": "f7643bf9-a74a-45ad-d5a8-331041aa0ad5",
        "colab": {
          "base_uri": "https://localhost:8080/"
        }
      },
      "source": [
        "trained = model.fit(x_train,train_y,epochs=5,verbose=1,validation_data=(x_test,test_y))\n"
      ],
      "execution_count": 16,
      "outputs": [
        {
          "output_type": "stream",
          "text": [
            "Epoch 1/5\n",
            "1563/1563 [==============================] - 119s 76ms/step - loss: 0.9527 - accuracy: 0.7154 - val_loss: 2.8929 - val_accuracy: 0.3909\n",
            "Epoch 2/5\n",
            "1563/1563 [==============================] - 117s 75ms/step - loss: 0.9558 - accuracy: 0.7155 - val_loss: 3.0504 - val_accuracy: 0.3774\n",
            "Epoch 3/5\n",
            "1563/1563 [==============================] - 120s 76ms/step - loss: 0.9480 - accuracy: 0.7194 - val_loss: 2.9590 - val_accuracy: 0.3983\n",
            "Epoch 4/5\n",
            "1563/1563 [==============================] - 117s 75ms/step - loss: 0.9515 - accuracy: 0.7195 - val_loss: 2.9974 - val_accuracy: 0.3900\n",
            "Epoch 5/5\n",
            "1563/1563 [==============================] - 117s 75ms/step - loss: 0.9376 - accuracy: 0.7197 - val_loss: 2.9840 - val_accuracy: 0.3873\n"
          ],
          "name": "stdout"
        }
      ]
    },
    {
      "cell_type": "code",
      "metadata": {
        "id": "-tti9UfYXeAb",
        "outputId": "cc0eac47-6f44-44c1-ddc1-028c44b37596",
        "colab": {
          "base_uri": "https://localhost:8080/",
          "height": 193
        }
      },
      "source": [
        "   \n",
        "import tensorflow as tf\n",
        "from keras_preprocessing import image\n",
        "from keras.utils import np_utils\n",
        "import numpy as np\n",
        "#images = image.load_img(\"/content/girl.jpg\", target_size=(32, 32,3)) \n",
        "plt.figure(figsize = (2,2))\n",
        "images = train_x[12]\n",
        "plt.imshow(train_x[12])\n",
        "plt.show()\n",
        "x = image.img_to_array(images)\n",
        "#x = tf.image.rgb_to_grayscale(x)\n",
        "x = np.expand_dims(x, axis=0)\n",
        "x = x/255.0\n",
        "prediction = model.predict(x)\n",
        "prediction = np.argmax(prediction[0])\n",
        "print(prediction)\n",
        "print(fine_label_names[prediction])"
      ],
      "execution_count": 17,
      "outputs": [
        {
          "output_type": "display_data",
          "data": {
            "image/png": "[encoded data removed]",
            "text/plain": [
              "<Figure size 144x144 with 1 Axes>"
            ]
          },
          "metadata": {
            "tags": [],
            "needs_background": "light"
          }
        },
        {
          "output_type": "stream",
          "text": [
            "82\n",
            "sunflower\n"
          ],
          "name": "stdout"
        }
      ]
    },
    {
      "cell_type": "code",
      "metadata": {
        "id": "03pzZcluf_tW"
      },
      "source": [
        ""
      ],
      "execution_count": null,
      "outputs": []
    }
  ]
}